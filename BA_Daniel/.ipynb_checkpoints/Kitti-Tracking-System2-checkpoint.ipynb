{
 "cells": [
  {
   "cell_type": "markdown",
   "metadata": {},
   "source": [
    "# Detect and Track Objects in Kitti Dataset and create Carmaker Files\n",
    "This Notebook is for creating the required files and running the detector training and generating the simulation files\n",
    "### It is necessary to run this Notebook in the kitti_env environment\n",
    "First install the conda environment kitti_env using the kitti-environment.yaml file.\n",
    "Install nb_conda for conda support in jupyter.\n",
    "Activate the environment in Jupyter using: Kernel->Change Kernel->conda_env:kitti_env"
   ]
  },
  {
   "cell_type": "code",
   "execution_count": 1,
   "metadata": {
    "scrolled": true
   },
   "outputs": [
    {
     "name": "stdout",
     "output_type": "stream",
     "text": [
      "path exists, skipping /home/itiv/Desktop/repo/scenarios_in_CarMaker/BA_Daniel/Kitti-Detector2/second.pytorch/second\r\n",
      "completed operation for: /home/itiv/Desktop/repo/scenarios_in_CarMaker/BA_Daniel/Kitti-Detector2/second.pytorch/second\r\n"
     ]
    }
   ],
   "source": [
    "!conda develop /home/itiv/Desktop/repo/scenarios_in_CarMaker/BA_Daniel/Kitti-Detector/second.pytorch"
   ]
  },
  {
   "cell_type": "code",
   "execution_count": 48,
   "metadata": {},
   "outputs": [
    {
     "name": "stdout",
     "output_type": "stream",
     "text": [
      "The autoreload extension is already loaded. To reload it, use:\n",
      "  %reload_ext autoreload\n"
     ]
    }
   ],
   "source": [
    "%load_ext autoreload\n",
    "%autoreload 2\n",
    "%matplotlib inline\n",
    "\n",
    "import numpy as np\n",
    "from second.protos import pipeline_pb2\n",
    "from google.protobuf import text_format"
   ]
  },
  {
   "cell_type": "code",
   "execution_count": 49,
   "metadata": {},
   "outputs": [],
   "source": [
    "KITTI_DATASET_ROOT = '/home/itiv/Desktop/KITTI_OBJECT_DATA/'\n",
    "config_path = './Kitti-Detector/second.pytorch/second/configs/all.fhd.config'\n",
    "model_dir = './Kitti-Detector/second.pytorch/second/model/car_model'\n"
   ]
  },
  {
   "cell_type": "markdown",
   "metadata": {},
   "source": [
    "### Training\n"
   ]
  },
  {
   "cell_type": "code",
   "execution_count": 45,
   "metadata": {},
   "outputs": [],
   "source": [
    "from pathlib import Path\n",
    "Path(KITTI_DATASET_ROOT+\"/training/velodyne_reduced\").mkdir(parents=True, exist_ok=True)\n",
    "Path(KITTI_DATASET_ROOT+\"/testing/velodyne_reduced\").mkdir(parents=True, exist_ok=True)"
   ]
  },
  {
   "cell_type": "code",
   "execution_count": 46,
   "metadata": {
    "scrolled": true
   },
   "outputs": [
    {
     "name": "stdout",
     "output_type": "stream",
     "text": [
      "/home/itiv/anaconda3/envs/kitti_env/lib/python3.6/site-packages/numba/cuda/envvars.py:17: NumbaWarning: \n",
      "Environment variables with the 'NUMBAPRO' prefix are deprecated and consequently ignored, found use of NUMBAPRO_NVVM=/usr/local/cuda/nvvm/lib64/libnvvm.so.\n",
      "\n",
      "For more information about alternatives visit: ('http://numba.pydata.org/numba-doc/latest/cuda/overview.html', '#cudatoolkit-lookup')\n",
      "  warnings.warn(errors.NumbaWarning(msg))\n",
      "/home/itiv/anaconda3/envs/kitti_env/lib/python3.6/site-packages/numba/cuda/envvars.py:17: NumbaWarning: \n",
      "Environment variables with the 'NUMBAPRO' prefix are deprecated and consequently ignored, found use of NUMBAPRO_LIBDEVICE=/usr/local/cuda/nvvm/libdevice.\n",
      "\n",
      "For more information about alternatives visit: ('http://numba.pydata.org/numba-doc/latest/cuda/overview.html', '#cudatoolkit-lookup')\n",
      "  warnings.warn(errors.NumbaWarning(msg))\n",
      "/home/itiv/anaconda3/envs/kitti_env/lib/python3.6/site-packages/numba/cuda/envvars.py:17: NumbaWarning: \n",
      "Environment variables with the 'NUMBAPRO' prefix are deprecated and consequently ignored, found use of NUMBAPRO_CUDA_DRIVER=/usr/lib/x86_64-linux-gnu/libcuda.so.\n",
      "\n",
      "For more information about alternatives visit: ('http://numba.pydata.org/numba-doc/latest/cuda/overview.html', '#cudatoolkit-lookup')\n",
      "  warnings.warn(errors.NumbaWarning(msg))\n",
      "Generate info. this may take several minutes.\n",
      "Kitti info train file is saved to /home/itiv/Desktop/KITTI_OBJECT_DATA/kitti_infos_train.pkl\n",
      "^C\n",
      "Traceback (most recent call last):\n",
      "  File \"./Kitti-Detector/second.pytorch/second/create_data.py\", line 294, in <module>\n",
      "    fire.Fire()\n",
      "  File \"/home/itiv/anaconda3/envs/kitti_env/lib/python3.6/site-packages/fire/core.py\", line 138, in Fire\n",
      "    component_trace = _Fire(component, args, parsed_flag_args, context, name)\n",
      "  File \"/home/itiv/anaconda3/envs/kitti_env/lib/python3.6/site-packages/fire/core.py\", line 471, in _Fire\n",
      "    target=component.__name__)\n",
      "  File \"/home/itiv/anaconda3/envs/kitti_env/lib/python3.6/site-packages/fire/core.py\", line 675, in _CallAndUpdateTrace\n",
      "    component = fn(*varargs, **kwargs)\n",
      "  File \"./Kitti-Detector/second.pytorch/second/create_data.py\", line 90, in create_kitti_info_file\n",
      "    _calculate_num_points_in_gt(data_path, kitti_infos_val, relative_path)\n",
      "  File \"./Kitti-Detector/second.pytorch/second/create_data.py\", line 30, in _calculate_num_points_in_gt\n",
      "    v_path, dtype=np.float32, count=-1).reshape([-1, num_features])\n",
      "KeyboardInterrupt\n"
     ]
    }
   ],
   "source": [
    "!python ./Kitti-Detector/second.pytorch/second/create_data.py create_kitti_info_file --data_path=$KITTI_DATASET_ROOT"
   ]
  },
  {
   "cell_type": "code",
   "execution_count": 40,
   "metadata": {},
   "outputs": [
    {
     "name": "stdout",
     "output_type": "stream",
     "text": [
      "/home/itiv/anaconda3/envs/kitti_env/lib/python3.6/site-packages/numba/cuda/envvars.py:17: NumbaWarning: \n",
      "Environment variables with the 'NUMBAPRO' prefix are deprecated and consequently ignored, found use of NUMBAPRO_NVVM=/usr/local/cuda/nvvm/lib64/libnvvm.so.\n",
      "\n",
      "For more information about alternatives visit: ('http://numba.pydata.org/numba-doc/latest/cuda/overview.html', '#cudatoolkit-lookup')\n",
      "  warnings.warn(errors.NumbaWarning(msg))\n",
      "/home/itiv/anaconda3/envs/kitti_env/lib/python3.6/site-packages/numba/cuda/envvars.py:17: NumbaWarning: \n",
      "Environment variables with the 'NUMBAPRO' prefix are deprecated and consequently ignored, found use of NUMBAPRO_LIBDEVICE=/usr/local/cuda/nvvm/libdevice.\n",
      "\n",
      "For more information about alternatives visit: ('http://numba.pydata.org/numba-doc/latest/cuda/overview.html', '#cudatoolkit-lookup')\n",
      "  warnings.warn(errors.NumbaWarning(msg))\n",
      "/home/itiv/anaconda3/envs/kitti_env/lib/python3.6/site-packages/numba/cuda/envvars.py:17: NumbaWarning: \n",
      "Environment variables with the 'NUMBAPRO' prefix are deprecated and consequently ignored, found use of NUMBAPRO_CUDA_DRIVER=/usr/lib/x86_64-linux-gnu/libcuda.so.\n",
      "\n",
      "For more information about alternatives visit: ('http://numba.pydata.org/numba-doc/latest/cuda/overview.html', '#cudatoolkit-lookup')\n",
      "  warnings.warn(errors.NumbaWarning(msg))\n",
      "[100.0%][===================>][99.89it/s][00:37>00:00]    \n",
      "[100.0%][===================>][103.69it/s][00:35>00:00]   \n",
      "[100.0%][===================>][99.65it/s][01:16>00:00]    \n"
     ]
    }
   ],
   "source": [
    "!python ./Kitti-Detector/second.pytorch/second/create_data.py create_reduced_point_cloud --data_path=$KITTI_DATASET_ROOT"
   ]
  },
  {
   "cell_type": "code",
   "execution_count": 6,
   "metadata": {},
   "outputs": [
    {
     "name": "stdout",
     "output_type": "stream",
     "text": [
      "/home/itiv/anaconda3/envs/kitti_env/lib/python3.6/site-packages/numba/cuda/envvars.py:17: NumbaWarning: \n",
      "Environment variables with the 'NUMBAPRO' prefix are deprecated and consequently ignored, found use of NUMBAPRO_NVVM=/usr/local/cuda/nvvm/lib64/libnvvm.so.\n",
      "\n",
      "For more information about alternatives visit: ('http://numba.pydata.org/numba-doc/latest/cuda/overview.html', '#cudatoolkit-lookup')\n",
      "  warnings.warn(errors.NumbaWarning(msg))\n",
      "/home/itiv/anaconda3/envs/kitti_env/lib/python3.6/site-packages/numba/cuda/envvars.py:17: NumbaWarning: \n",
      "Environment variables with the 'NUMBAPRO' prefix are deprecated and consequently ignored, found use of NUMBAPRO_LIBDEVICE=/usr/local/cuda/nvvm/libdevice.\n",
      "\n",
      "For more information about alternatives visit: ('http://numba.pydata.org/numba-doc/latest/cuda/overview.html', '#cudatoolkit-lookup')\n",
      "  warnings.warn(errors.NumbaWarning(msg))\n",
      "/home/itiv/anaconda3/envs/kitti_env/lib/python3.6/site-packages/numba/cuda/envvars.py:17: NumbaWarning: \n",
      "Environment variables with the 'NUMBAPRO' prefix are deprecated and consequently ignored, found use of NUMBAPRO_CUDA_DRIVER=/usr/lib/x86_64-linux-gnu/libcuda.so.\n",
      "\n",
      "For more information about alternatives visit: ('http://numba.pydata.org/numba-doc/latest/cuda/overview.html', '#cudatoolkit-lookup')\n",
      "  warnings.warn(errors.NumbaWarning(msg))\n",
      "[100.0%][===================>][94.73it/s][00:38>00:00]    \n",
      "load 14357 Car database infos\n",
      "load 2207 Pedestrian database infos\n",
      "load 734 Cyclist database infos\n",
      "load 1297 Van database infos\n",
      "load 56 Person_sitting database infos\n",
      "load 488 Truck database infos\n",
      "load 224 Tram database infos\n",
      "load 337 Misc database infos\n"
     ]
    }
   ],
   "source": [
    "!python ./Kitti-Detector/second.pytorch/second/create_data.py create_groundtruth_database --data_path=$KITTI_DATASET_ROOT"
   ]
  },
  {
   "cell_type": "code",
   "execution_count": 9,
   "metadata": {
    "scrolled": true
   },
   "outputs": [
    {
     "name": "stdout",
     "output_type": "stream",
     "text": [
      "Paths set in config file\n"
     ]
    }
   ],
   "source": [
    "## set paths in config file...\n",
    "\n",
    "config = pipeline_pb2.TrainEvalPipelineConfig()\n",
    "with open(config_path, \"r\") as f:\n",
    "    proto_str = f.read()\n",
    "    text_format.Merge(proto_str, config)\n",
    "    \n",
    "config.train_input_reader.kitti_info_path = KITTI_DATASET_ROOT+\"/kitti_infos_train.pkl\"\n",
    "config.train_input_reader.kitti_root_path  = KITTI_DATASET_ROOT\n",
    "config.train_input_reader.database_sampler.database_info_path = KITTI_DATASET_ROOT+'kitti_dbinfos_train.pkl'\n",
    "    \n",
    "config.eval_input_reader.kitti_info_path = KITTI_DATASET_ROOT+\"/kitti_infos_val.pkl\"\n",
    "config.eval_input_reader.kitti_root_path  = KITTI_DATASET_ROOT\n",
    "\n",
    "config_text = text_format.MessageToString(config)\n",
    "with open(config_path, \"w\") as f:\n",
    "    f.write(config_text)\n",
    "\n",
    "print('Paths set in config file')"
   ]
  },
  {
   "cell_type": "code",
   "execution_count": 10,
   "metadata": {},
   "outputs": [
    {
     "name": "stdout",
     "output_type": "stream",
     "text": [
      "python ./Kitti-Detector/second.pytorch/second/pytorch/train.py train --config_path=./Kitti-Detector/second.pytorch/second/configs/all.fhd.config --model_dir=./Kitti-Detector/second.pytorch/second/model/car_model--resume=True\n"
     ]
    }
   ],
   "source": [
    "#start training\n",
    "# better do this in command prompt\n",
    "\n",
    "#!python ./Kitti-Detector/second.pytorch/second/pytorch/train.py train --config_path=$config_path --model_dir=$model_dir\n",
    "\n",
    "print('python ./Kitti-Detector/second.pytorch/second/pytorch/train.py train --config_path='+config_path+' --model_dir='+model_dir+' --resume=True')"
   ]
  },
  {
   "cell_type": "markdown",
   "metadata": {},
   "source": [
    "## Generate Tracks"
   ]
  },
  {
   "cell_type": "code",
   "execution_count": 54,
   "metadata": {},
   "outputs": [],
   "source": [
    "# path to scene data\n",
    "scene_dataset_root = '/home/itiv/Desktop/dataset_x/testing/'\n",
    "config_path = './Kitti-Detector/second.pytorch/second/configs/car.fhd.config'\n",
    "model_dir = './Kitti-Detector/second.pytorch/second/model/car_model'\n",
    "temp_data_dir = scene_dataset_root+'/temp_data/'"
   ]
  },
  {
   "cell_type": "code",
   "execution_count": 55,
   "metadata": {},
   "outputs": [],
   "source": [
    "from pathlib import Path\n",
    "Path(scene_dataset_root+\"/velodyne_reduced\").mkdir(parents=True, exist_ok=True)\n",
    "Path(temp_data_dir).mkdir(parents=True, exist_ok=True)"
   ]
  },
  {
   "cell_type": "code",
   "execution_count": 56,
   "metadata": {},
   "outputs": [],
   "source": [
    "config = pipeline_pb2.TrainEvalPipelineConfig()\n",
    "with open(config_path, \"r\") as f:\n",
    "    proto_str = f.read()\n",
    "    text_format.Merge(proto_str, config)\n",
    "config.eval_input_reader.kitti_info_path = temp_data_dir+\"/kitti_infos_test.pkl\"\n",
    "config.eval_input_reader.kitti_root_path  = scene_dataset_root\n",
    "\n",
    "config_text = text_format.MessageToString(config)\n",
    "with open(config_path, \"w\") as f:\n",
    "    f.write(config_text)"
   ]
  },
  {
   "cell_type": "code",
   "execution_count": 62,
   "metadata": {
    "scrolled": true
   },
   "outputs": [
    {
     "name": "stdout",
     "output_type": "stream",
     "text": [
      "/home/itiv/anaconda3/envs/kitti_env/lib/python3.6/site-packages/numba/cuda/envvars.py:17: NumbaWarning: \n",
      "Environment variables with the 'NUMBAPRO' prefix are deprecated and consequently ignored, found use of NUMBAPRO_NVVM=/usr/local/cuda/nvvm/lib64/libnvvm.so.\n",
      "\n",
      "For more information about alternatives visit: ('http://numba.pydata.org/numba-doc/latest/cuda/overview.html', '#cudatoolkit-lookup')\n",
      "  warnings.warn(errors.NumbaWarning(msg))\n",
      "/home/itiv/anaconda3/envs/kitti_env/lib/python3.6/site-packages/numba/cuda/envvars.py:17: NumbaWarning: \n",
      "Environment variables with the 'NUMBAPRO' prefix are deprecated and consequently ignored, found use of NUMBAPRO_LIBDEVICE=/usr/local/cuda/nvvm/libdevice.\n",
      "\n",
      "For more information about alternatives visit: ('http://numba.pydata.org/numba-doc/latest/cuda/overview.html', '#cudatoolkit-lookup')\n",
      "  warnings.warn(errors.NumbaWarning(msg))\n",
      "/home/itiv/anaconda3/envs/kitti_env/lib/python3.6/site-packages/numba/cuda/envvars.py:17: NumbaWarning: \n",
      "Environment variables with the 'NUMBAPRO' prefix are deprecated and consequently ignored, found use of NUMBAPRO_CUDA_DRIVER=/usr/lib/x86_64-linux-gnu/libcuda.so.\n",
      "\n",
      "For more information about alternatives visit: ('http://numba.pydata.org/numba-doc/latest/cuda/overview.html', '#cudatoolkit-lookup')\n",
      "  warnings.warn(errors.NumbaWarning(msg))\n",
      "Creating info file\n",
      "Found 1176  Images at /home/itiv/Desktop/dataset_x/testing/image_02/\n",
      "Kitti info test file is saved to /home/itiv/Desktop/dataset_x/testing/temp_data/kitti_infos_test.pkl\n"
     ]
    }
   ],
   "source": [
    "!python ./Kitti-Detector/second.pytorch/second/create_track_data.py create_kitti_info_file --data_path=$scene_dataset_root --save_path=$temp_data_dir"
   ]
  },
  {
   "cell_type": "code",
   "execution_count": 63,
   "metadata": {},
   "outputs": [
    {
     "name": "stdout",
     "output_type": "stream",
     "text": [
      "/home/itiv/Desktop/dataset_x/testing//temp_data/kitti_infos_test.pkl\n"
     ]
    }
   ],
   "source": [
    "test_info = temp_data_dir+'kitti_infos_test.pkl'\n",
    "print(test_info)"
   ]
  },
  {
   "cell_type": "code",
   "execution_count": 70,
   "metadata": {
    "scrolled": true
   },
   "outputs": [
    {
     "name": "stdout",
     "output_type": "stream",
     "text": [
      "/home/itiv/anaconda3/envs/kitti_env/lib/python3.6/site-packages/numba/cuda/envvars.py:17: NumbaWarning: \n",
      "Environment variables with the 'NUMBAPRO' prefix are deprecated and consequently ignored, found use of NUMBAPRO_NVVM=/usr/local/cuda/nvvm/lib64/libnvvm.so.\n",
      "\n",
      "For more information about alternatives visit: ('http://numba.pydata.org/numba-doc/latest/cuda/overview.html', '#cudatoolkit-lookup')\n",
      "  warnings.warn(errors.NumbaWarning(msg))\n",
      "/home/itiv/anaconda3/envs/kitti_env/lib/python3.6/site-packages/numba/cuda/envvars.py:17: NumbaWarning: \n",
      "Environment variables with the 'NUMBAPRO' prefix are deprecated and consequently ignored, found use of NUMBAPRO_LIBDEVICE=/usr/local/cuda/nvvm/libdevice.\n",
      "\n",
      "For more information about alternatives visit: ('http://numba.pydata.org/numba-doc/latest/cuda/overview.html', '#cudatoolkit-lookup')\n",
      "  warnings.warn(errors.NumbaWarning(msg))\n",
      "/home/itiv/anaconda3/envs/kitti_env/lib/python3.6/site-packages/numba/cuda/envvars.py:17: NumbaWarning: \n",
      "Environment variables with the 'NUMBAPRO' prefix are deprecated and consequently ignored, found use of NUMBAPRO_CUDA_DRIVER=/usr/lib/x86_64-linux-gnu/libcuda.so.\n",
      "\n",
      "For more information about alternatives visit: ('http://numba.pydata.org/numba-doc/latest/cuda/overview.html', '#cudatoolkit-lookup')\n",
      "  warnings.warn(errors.NumbaWarning(msg))\n",
      "1176\n",
      "[100.0%][===================>][88.06it/s][00:13>00:00]    \n"
     ]
    }
   ],
   "source": [
    "!python ./Kitti-Detector/second.pytorch/second/create_track_data.py create_reduced_point_cloud --data_path_=$scene_dataset_root --test_info_path_=$test_info --save_path_=$temp_data_dir"
   ]
  },
  {
   "cell_type": "code",
   "execution_count": 71,
   "metadata": {
    "scrolled": true
   },
   "outputs": [
    {
     "name": "stdout",
     "output_type": "stream",
     "text": [
      "/home/itiv/anaconda3/envs/kitti_env/lib/python3.6/site-packages/numba/cuda/envvars.py:17: NumbaWarning: \n",
      "Environment variables with the 'NUMBAPRO' prefix are deprecated and consequently ignored, found use of NUMBAPRO_NVVM=/usr/local/cuda/nvvm/lib64/libnvvm.so.\n",
      "\n",
      "For more information about alternatives visit: ('http://numba.pydata.org/numba-doc/latest/cuda/overview.html', '#cudatoolkit-lookup')\n",
      "  warnings.warn(errors.NumbaWarning(msg))\n",
      "/home/itiv/anaconda3/envs/kitti_env/lib/python3.6/site-packages/numba/cuda/envvars.py:17: NumbaWarning: \n",
      "Environment variables with the 'NUMBAPRO' prefix are deprecated and consequently ignored, found use of NUMBAPRO_LIBDEVICE=/usr/local/cuda/nvvm/libdevice.\n",
      "\n",
      "For more information about alternatives visit: ('http://numba.pydata.org/numba-doc/latest/cuda/overview.html', '#cudatoolkit-lookup')\n",
      "  warnings.warn(errors.NumbaWarning(msg))\n",
      "/home/itiv/anaconda3/envs/kitti_env/lib/python3.6/site-packages/numba/cuda/envvars.py:17: NumbaWarning: \n",
      "Environment variables with the 'NUMBAPRO' prefix are deprecated and consequently ignored, found use of NUMBAPRO_CUDA_DRIVER=/usr/lib/x86_64-linux-gnu/libcuda.so.\n",
      "\n",
      "For more information about alternatives visit: ('http://numba.pydata.org/numba-doc/latest/cuda/overview.html', '#cudatoolkit-lookup')\n",
      "  warnings.warn(errors.NumbaWarning(msg))\n",
      "[  41 4000 5000]\n",
      "Restoring parameters from Kitti-Detector/second.pytorch/pretrained_models_v1.5/car_fhd/voxelnet-74280.tckpt\n",
      "feature_map_size [1, 500, 625]\n",
      "remain number of infos: 1176\n",
      "Generate output labels...\n",
      "Traceback (most recent call last):\n",
      "  File \"./Kitti-Detector/second.pytorch/second/pytorch/detect.py\", line 282, in <module>\n",
      "    fire.Fire()\n",
      "  File \"/home/itiv/anaconda3/envs/kitti_env/lib/python3.6/site-packages/fire/core.py\", line 138, in Fire\n",
      "    component_trace = _Fire(component, args, parsed_flag_args, context, name)\n",
      "  File \"/home/itiv/anaconda3/envs/kitti_env/lib/python3.6/site-packages/fire/core.py\", line 471, in _Fire\n",
      "    target=component.__name__)\n",
      "  File \"/home/itiv/anaconda3/envs/kitti_env/lib/python3.6/site-packages/fire/core.py\", line 675, in _CallAndUpdateTrace\n",
      "    component = fn(*varargs, **kwargs)\n",
      "  File \"./Kitti-Detector/second.pytorch/second/pytorch/detect.py\", line 119, in detect\n",
      "    model_cfg.lidar_input)\n",
      "  File \"./Kitti-Detector/second.pytorch/second/pytorch/detect.py\", line 187, in predict_to_kitti_label\n",
      "    predictions_dicts = net(example)\n",
      "  File \"/home/itiv/anaconda3/envs/kitti_env/lib/python3.6/site-packages/torch/nn/modules/module.py\", line 532, in __call__\n",
      "    result = self.forward(*input, **kwargs)\n",
      "  File \"/home/itiv/Desktop/repo/scenarios_in_CarMaker/BA_Daniel/Kitti-Detector/second.pytorch/second/pytorch/models/voxelnet.py\", line 305, in forward\n",
      "    preds_dict = self.rpn(spatial_features)\n",
      "  File \"/home/itiv/anaconda3/envs/kitti_env/lib/python3.6/site-packages/torch/nn/modules/module.py\", line 532, in __call__\n",
      "    result = self.forward(*input, **kwargs)\n",
      "  File \"/home/itiv/Desktop/repo/scenarios_in_CarMaker/BA_Daniel/Kitti-Detector/second.pytorch/second/pytorch/models/rpn.py\", line 327, in forward\n",
      "    x = self.blocks[i](x)\n",
      "  File \"/home/itiv/anaconda3/envs/kitti_env/lib/python3.6/site-packages/torch/nn/modules/module.py\", line 532, in __call__\n",
      "    result = self.forward(*input, **kwargs)\n",
      "  File \"/home/itiv/Desktop/repo/scenarios_in_CarMaker/BA_Daniel/Kitti-Detector/second.pytorch/torchplus/nn/modules/common.py\", line 89, in forward\n",
      "    input = module(input)\n",
      "  File \"/home/itiv/anaconda3/envs/kitti_env/lib/python3.6/site-packages/torch/nn/modules/module.py\", line 532, in __call__\n",
      "    result = self.forward(*input, **kwargs)\n",
      "  File \"/home/itiv/anaconda3/envs/kitti_env/lib/python3.6/site-packages/torch/nn/modules/conv.py\", line 345, in forward\n",
      "    return self.conv2d_forward(input, self.weight)\n",
      "  File \"/home/itiv/anaconda3/envs/kitti_env/lib/python3.6/site-packages/torch/nn/modules/conv.py\", line 342, in conv2d_forward\n",
      "    self.padding, self.dilation, self.groups)\n",
      "RuntimeError: CUDA out of memory. Tried to allocate 78.00 MiB (GPU 0; 7.93 GiB total capacity; 5.15 GiB already allocated; 17.81 MiB free; 5.31 GiB reserved in total by PyTorch)\n"
     ]
    }
   ],
   "source": [
    "!python ./Kitti-Detector/second.pytorch/second/pytorch/detect.py detect --config_path=./Kitti-Detector/second.pytorch/second/configs/car.fhd.config --model_dir=./Kitti-Detector/second.pytorch/pretrained_models_v1.5/car_fhd --measure_time=True --batch_size=1 --result_path=$temp_data_dir"
   ]
  },
  {
   "cell_type": "code",
   "execution_count": null,
   "metadata": {},
   "outputs": [],
   "source": []
  },
  {
   "cell_type": "code",
   "execution_count": 59,
   "metadata": {
    "scrolled": false
   },
   "outputs": [
    {
     "name": "stdout",
     "output_type": "stream",
     "text": [
      "/home/itiv/anaconda3/envs/kitti_env/lib/python3.6/site-packages/numba/cuda/envvars.py:17: NumbaWarning: \n",
      "Environment variables with the 'NUMBAPRO' prefix are deprecated and consequently ignored, found use of NUMBAPRO_NVVM=/usr/local/cuda/nvvm/lib64/libnvvm.so.\n",
      "\n",
      "For more information about alternatives visit: ('http://numba.pydata.org/numba-doc/latest/cuda/overview.html', '#cudatoolkit-lookup')\n",
      "  warnings.warn(errors.NumbaWarning(msg))\n",
      "/home/itiv/anaconda3/envs/kitti_env/lib/python3.6/site-packages/numba/cuda/envvars.py:17: NumbaWarning: \n",
      "Environment variables with the 'NUMBAPRO' prefix are deprecated and consequently ignored, found use of NUMBAPRO_LIBDEVICE=/usr/local/cuda/nvvm/libdevice.\n",
      "\n",
      "For more information about alternatives visit: ('http://numba.pydata.org/numba-doc/latest/cuda/overview.html', '#cudatoolkit-lookup')\n",
      "  warnings.warn(errors.NumbaWarning(msg))\n",
      "/home/itiv/anaconda3/envs/kitti_env/lib/python3.6/site-packages/numba/cuda/envvars.py:17: NumbaWarning: \n",
      "Environment variables with the 'NUMBAPRO' prefix are deprecated and consequently ignored, found use of NUMBAPRO_CUDA_DRIVER=/usr/lib/x86_64-linux-gnu/libcuda.so.\n",
      "\n",
      "For more information about alternatives visit: ('http://numba.pydata.org/numba-doc/latest/cuda/overview.html', '#cudatoolkit-lookup')\n",
      "  warnings.warn(errors.NumbaWarning(msg))\n",
      "Found 1176  Images at /home/itiv/Desktop/dataset_x/testing/image_2/\n",
      "Generate info. this may take several minutes.\n",
      "Kitti info test file is saved to /home/itiv/Desktop/dataset_x/kitti_infos_test.pkl\n",
      "[100.0%][===================>][307.94it/s][00:04>00:00]   \n"
     ]
    }
   ],
   "source": [
    "!python ./Kitti-Detector/second.pytorch/second/create_data.py kitti_data_prep --root_path=$scene_dataset_root"
   ]
  },
  {
   "cell_type": "code",
   "execution_count": 27,
   "metadata": {},
   "outputs": [
    {
     "name": "stdout",
     "output_type": "stream",
     "text": [
      "Paths set in config file\n"
     ]
    }
   ],
   "source": [
    "## set paths in config file...\n",
    "\n",
    "config = pipeline_pb2.TrainEvalPipelineConfig()\n",
    "with open(config_path, \"r\") as f:\n",
    "    proto_str = f.read()\n",
    "    text_format.Merge(proto_str, config)\n",
    "config.train_input_reader.dataset.kitti_info_path = scene_dataset_root+\"/kitti_infos_train.pkl\"\n",
    "config.train_input_reader.dataset.kitti_root_path = scene_dataset_root\n",
    "\n",
    "config.train_input_reader.preprocess.database_sampler.database_info_path = scene_dataset_root+\"/kitti_dbinfos_train.pkl\"\n",
    "    \n",
    "config.eval_input_reader.dataset.kitti_info_path = scene_dataset_root+\"/kitti_infos_test.pkl\"\n",
    "config.eval_input_reader.dataset.kitti_root_path = scene_dataset_root\n",
    "\n",
    "config_text = text_format.MessageToString(config)\n",
    "with open(config_path, \"w\") as f:\n",
    "    f.write(config_text)\n",
    "\n",
    "print('Paths set in config file')"
   ]
  },
  {
   "cell_type": "code",
   "execution_count": 30,
   "metadata": {
    "scrolled": true
   },
   "outputs": [
    {
     "name": "stdout",
     "output_type": "stream",
     "text": [
      "/home/itiv/anaconda3/envs/kitti_env/lib/python3.6/site-packages/numba/cuda/envvars.py:17: NumbaWarning: \n",
      "Environment variables with the 'NUMBAPRO' prefix are deprecated and consequently ignored, found use of NUMBAPRO_NVVM=/usr/local/cuda/nvvm/lib64/libnvvm.so.\n",
      "\n",
      "For more information about alternatives visit: ('http://numba.pydata.org/numba-doc/latest/cuda/overview.html', '#cudatoolkit-lookup')\n",
      "  warnings.warn(errors.NumbaWarning(msg))\n",
      "/home/itiv/anaconda3/envs/kitti_env/lib/python3.6/site-packages/numba/cuda/envvars.py:17: NumbaWarning: \n",
      "Environment variables with the 'NUMBAPRO' prefix are deprecated and consequently ignored, found use of NUMBAPRO_LIBDEVICE=/usr/local/cuda/nvvm/libdevice.\n",
      "\n",
      "For more information about alternatives visit: ('http://numba.pydata.org/numba-doc/latest/cuda/overview.html', '#cudatoolkit-lookup')\n",
      "  warnings.warn(errors.NumbaWarning(msg))\n",
      "/home/itiv/anaconda3/envs/kitti_env/lib/python3.6/site-packages/numba/cuda/envvars.py:17: NumbaWarning: \n",
      "Environment variables with the 'NUMBAPRO' prefix are deprecated and consequently ignored, found use of NUMBAPRO_CUDA_DRIVER=/usr/lib/x86_64-linux-gnu/libcuda.so.\n",
      "\n",
      "For more information about alternatives visit: ('http://numba.pydata.org/numba-doc/latest/cuda/overview.html', '#cudatoolkit-lookup')\n",
      "  warnings.warn(errors.NumbaWarning(msg))\n",
      "/home/itiv/anaconda3/envs/kitti_env/lib/python3.6/site-packages/statsmodels/tools/_testing.py:19: FutureWarning: pandas.util.testing is deprecated. Use the functions in the public API at pandas.testing instead.\n",
      "  import pandas.util.testing as tm\n",
      "[  41 1600 1408]\n",
      "feature_map_size [1, 200, 176]\n",
      "remain number of infos: 1176\n",
      "Generate output labels...\n",
      "[100.0%][===================>][2.43it/s][00:59>00:00]   \n",
      "generate label finished(19.70/s). start eval:\n"
     ]
    }
   ],
   "source": [
    "#detect\n",
    "\n",
    "result_path = scene_dataset_root\n",
    "\n",
    "!python ./Kitti-Detector2/second.pytorch/second/pytorch/train.py detect --config_path=$config_path --model_dir=$model_dir --result_path=$result_path"
   ]
  },
  {
   "cell_type": "code",
   "execution_count": 31,
   "metadata": {},
   "outputs": [],
   "source": [
    "## edit tracker config\n",
    "import glob\n",
    "import yaml\n",
    "\n",
    "config_path = './Kitti-Tracker/mmMOT/experiments/pp_pv_40e_dualadd_subabs_C/config.yaml'\n",
    "\n",
    "\n",
    "img_path = scene_dataset_root+'/testing/image_2/'\n",
    "image_ids = list(range(len(glob.glob(img_path+'*.png'))))\n",
    "with open(scene_dataset_root+\"/tracker_id.txt\", \"w\") as text_file:\n",
    "    for id in image_ids:\n",
    "        text_file.write(f'0000-{id:06d}\\n')\n",
    "\n",
    "with open(config_path) as f:\n",
    "    config = yaml.load(f, Loader=yaml.FullLoader)\n",
    "config['common']['test_root'] = scene_dataset_root+'/testing'\n",
    "config['common']['test_source'] = scene_dataset_root+\"/testing\"\n",
    "config['common']['test_link'] = scene_dataset_root+\"/tracker_id.txt\"\n",
    "config['common']['test_det'] = scene_dataset_root+\"/result.pkl\"\n",
    "\n",
    "with open(config_path, \"w\") as f:\n",
    "    yaml.dump(config, f)\n"
   ]
  },
  {
   "cell_type": "code",
   "execution_count": 34,
   "metadata": {
    "scrolled": true
   },
   "outputs": [
    {
     "name": "stdout",
     "output_type": "stream",
     "text": [
      "####### Tracker start ##########\n",
      "Fusion Module C: split sigmoid weight gated point, image fusion\n",
      "use Skip Pooling in appearance model\n",
      "use avg in pointnet feat\n",
      "Use minus_abs similarity with fusion module\n",
      "End version V2 by avg\n",
      "NewEndIndicator_v2(\n",
      "  (conv0): Sequential(\n",
      "    (0): Conv2d(512, 512, kernel_size=(1, 1), stride=(1, 1))\n",
      "    (1): GroupNorm(1, 512, eps=1e-05, affine=True)\n",
      "    (2): ReLU(inplace=True)\n",
      "  )\n",
      "  (conv1): Sequential(\n",
      "    (0): Conv1d(512, 512, kernel_size=(1,), stride=(1,))\n",
      "    (1): GroupNorm(1, 512, eps=1e-05, affine=True)\n",
      "    (2): ReLU(inplace=True)\n",
      "    (3): Conv1d(512, 128, kernel_size=(1,), stride=(1,))\n",
      "    (4): GroupNorm(1, 128, eps=1e-05, affine=True)\n",
      "    (5): ReLU(inplace=True)\n",
      "    (6): Conv1d(128, 1, kernel_size=(1,), stride=(1,))\n",
      "    (7): Sigmoid()\n",
      "  )\n",
      ")\n",
      "=> no checkpoint found at './Kitti-Tracker/mmMOT/pp_pv_40e_dualadd_subabs_C.pth'\n",
      "Building dataset using dets file /home/itiv/Desktop/dataset_x/result.pkl\n",
      "Traceback (most recent call last):\n",
      "  File \"./Kitti-Tracker/mmMOT/track.py\", line 140, in <module>\n",
      "    fire.Fire()\n",
      "  File \"/home/itiv/anaconda3/envs/kitti_env/lib/python3.6/site-packages/fire/core.py\", line 138, in Fire\n",
      "    component_trace = _Fire(component, args, parsed_flag_args, context, name)\n",
      "  File \"/home/itiv/anaconda3/envs/kitti_env/lib/python3.6/site-packages/fire/core.py\", line 471, in _Fire\n",
      "    target=component.__name__)\n",
      "  File \"/home/itiv/anaconda3/envs/kitti_env/lib/python3.6/site-packages/fire/core.py\", line 675, in _CallAndUpdateTrace\n",
      "    component = fn(*varargs, **kwargs)\n",
      "  File \"./Kitti-Tracker/mmMOT/track.py\", line 52, in start\n",
      "    valid_transform=valid_transform)\n",
      "  File \"/home/itiv/Desktop/repo/scenarios_in_CarMaker/BA_Daniel/Kitti-Tracker/mmMOT/utils/build_util.py\", line 246, in build_dataset\n",
      "    sample_max_len=config.sample_max_len)\n",
      "  File \"/home/itiv/Desktop/repo/scenarios_in_CarMaker/BA_Daniel/Kitti-Tracker/mmMOT/dataset/test_seq_dataset.py\", line 64, in __init__\n",
      "    allow_empty=True, test=self.test)\n",
      "  File \"/home/itiv/Desktop/repo/scenarios_in_CarMaker/BA_Daniel/Kitti-Tracker/mmMOT/utils/data_util.py\", line 222, in generate_seq_dets\n",
      "    iou_threshold, fix_threshold, allow_empty)\n",
      "  File \"/home/itiv/Desktop/repo/scenarios_in_CarMaker/BA_Daniel/Kitti-Tracker/mmMOT/utils/data_util.py\", line 277, in generate_seq_dets_sec\n",
      "    elif x['metadata']['image']['image_idx'] == int(img_frame_id):\n",
      "KeyError: 'image'\n"
     ]
    }
   ],
   "source": [
    "## perform tracking\n",
    "\n",
    "tracker_model = './Kitti-Tracker/mmMOT/pp_pv_40e_dualadd_subabs_C.pth'\n",
    "dataset_root = scene_dataset_root+'/testing'\n",
    "!python ./Kitti-Tracker/mmMOT/track.py start --config_path=$config_path --load_path=$tracker_model --result_path=$scene_dataset_root --dataset_root=$dataset_root --result_sha=result"
   ]
  },
  {
   "cell_type": "code",
   "execution_count": null,
   "metadata": {},
   "outputs": [],
   "source": [
    "## convert to carmaker\n",
    "import pandas as pd\n",
    "from numpy.linalg import inv\n",
    "import math\n",
    "import numpy as np\n",
    "\n",
    "scene_num = 100\n",
    "\n",
    "\n",
    "#detection_result = '00{:02d}.txt'.format(scene_num)\n",
    "#detection_result_oxts = 'oxts//'+detection_result\n",
    "#detection_result_calib= 'calib//'+detection_result\n",
    "\n",
    "result_dir = 'result'\n",
    "detection_result = result_dir+'//test//0000.txt'\n",
    "detection_result_oxts = result_dir+'//oxts.txt'\n",
    "detection_result_calib = result_dir+'//calib.txt'\n",
    "\n",
    "\n",
    "# x: sideward\n",
    "# y: downward\n",
    "# z: forward\n",
    "detection_data = pd.read_csv(detection_result, sep=\" \", header=None)\n",
    "detection_data.columns = [\"FrameID\", \"ObjectID\", \"Type\", \"Truncation\",\"Occlusion\",\"Alpha\",\"BBox-1\",\"BBox-2\",\"BBox-3\",\"BBox-4\",\"Dim-l\",\"Dim-w\",\"Dim-h\",\"Loc-x\",\"Loc-y\",\"Loc-z\",\"Rot\",\"Score\"]\n",
    "\n",
    "detection_oxts = pd.read_csv(detection_result_oxts, sep=\" \", header=None)\n",
    "\n",
    "\n",
    "print(detection_oxts)"
   ]
  },
  {
   "cell_type": "code",
   "execution_count": null,
   "metadata": {},
   "outputs": [],
   "source": [
    "#read calib file\n",
    "\n",
    "f = open(detection_result_calib, \"r\")\n",
    "p0_raw = f.readline()\n",
    "p1_raw = f.readline()\n",
    "p2_raw = f.readline()\n",
    "p3_raw = f.readline()\n",
    "r_rect_raw = f.readline()\n",
    "tr_velo_cam_raw = f.readline()\n",
    "tr_imu_velo_raw = f.readline()\n",
    "\n",
    "\n",
    "\n",
    "tr_imu_velo = list(map(float,tr_imu_velo_raw[11:].split()))\n",
    "tr_velo_cam = list(map(float,tr_velo_cam_raw[11:].split()))\n",
    "tr_imu_velo = np.reshape(tr_imu_velo, (3, 4))\n",
    "tr_velo_cam = np.reshape(tr_velo_cam, (3, 4))\n",
    "\n",
    "tr_imu_velo = np.vstack((tr_imu_velo, [0, 0, 0, 1]))\n",
    "tr_velo_cam = np.vstack((tr_velo_cam, [0, 0, 0, 1]))\n",
    "\n",
    "\n",
    "tr_imu_cam = tr_velo_cam.dot(tr_imu_velo)#tr_imu_velo.dot(tr_velo_cam)\n",
    "\n",
    "tr_cam_imu = inv(tr_imu_cam)\n",
    "print('Calibration Matrix:')\n",
    "print(tr_cam_imu)"
   ]
  }
 ],
 "metadata": {
  "kernelspec": {
   "display_name": "Python [conda env:kitti_env]",
   "language": "python",
   "name": "conda-env-kitti_env-py"
  },
  "language_info": {
   "codemirror_mode": {
    "name": "ipython",
    "version": 3
   },
   "file_extension": ".py",
   "mimetype": "text/x-python",
   "name": "python",
   "nbconvert_exporter": "python",
   "pygments_lexer": "ipython3",
   "version": "3.6.10"
  }
 },
 "nbformat": 4,
 "nbformat_minor": 2
}
