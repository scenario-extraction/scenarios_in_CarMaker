{
 "cells": [
  {
   "cell_type": "markdown",
   "metadata": {},
   "source": [
    "# Detect and Track Objects in Lyft Dataset and create Carmaker Files\n",
    "This Notebook is for creating the required files and running the detector training and generating the simulation files\n",
    "### It is necessary to run this Notebook in the lyft_env environment\n",
    "First install the conda environment lyft_env using the lyft-environment.yaml file.\n",
    "Activate the environment in Jupyter using: Kernel->Change Kernel->conda_env:lyft_env"
   ]
  },
  {
   "cell_type": "code",
   "execution_count": 49,
   "metadata": {},
   "outputs": [
    {
     "name": "stdout",
     "output_type": "stream",
     "text": [
      "The autoreload extension is already loaded. To reload it, use:\n",
      "  %reload_ext autoreload\n"
     ]
    },
    {
     "name": "stderr",
     "output_type": "stream",
     "text": [
      "[autoreload of second.data.nuscenes_dataset failed: Traceback (most recent call last):\n",
      "  File \"/home/itiv/anaconda3/envs/lyft_detector/lib/python3.6/site-packages/IPython/extensions/autoreload.py\", line 245, in check\n",
      "    superreload(m, reload, self.old_objects)\n",
      "  File \"/home/itiv/anaconda3/envs/lyft_detector/lib/python3.6/site-packages/IPython/extensions/autoreload.py\", line 394, in superreload\n",
      "    module = reload(module)\n",
      "  File \"/home/itiv/anaconda3/envs/lyft_detector/lib/python3.6/imp.py\", line 315, in reload\n",
      "    return importlib.reload(module)\n",
      "  File \"/home/itiv/anaconda3/envs/lyft_detector/lib/python3.6/importlib/__init__.py\", line 166, in reload\n",
      "    _bootstrap._exec(spec, module)\n",
      "  File \"<frozen importlib._bootstrap>\", line 618, in _exec\n",
      "  File \"<frozen importlib._bootstrap_external>\", line 678, in exec_module\n",
      "  File \"<frozen importlib._bootstrap>\", line 219, in _call_with_frames_removed\n",
      "  File \"/home/itiv/Desktop/repo/scenarios_in_CarMaker/BA_Daniel/Lyft-Detector/second.pytorch/second/data/nuscenes_dataset.py\", line 23, in <module>\n",
      "    class NuScenesDataset(Dataset):\n",
      "  File \"/home/itiv/Desktop/repo/scenarios_in_CarMaker/BA_Daniel/Lyft-Detector/second.pytorch/second/data/dataset.py\", line 18, in register_dataset\n",
      "    assert name not in REGISTERED_DATASET_CLASSES, f\"exist class: {REGISTERED_DATASET_CLASSES}\"\n",
      "AssertionError: exist class: {'KittiDataset': <class 'second.data.kitti_dataset.KittiDataset'>, 'NuScenesDataset': <class 'second.data.nuscenes_dataset.NuScenesDataset'>, 'NuScenesDatasetD8': <class 'second.data.nuscenes_dataset.NuScenesDatasetD8'>, 'NuScenesDatasetD8Velo': <class 'second.data.nuscenes_dataset.NuScenesDatasetD8Velo'>, 'NuScenesDatasetVelo': <class 'second.data.nuscenes_dataset.NuScenesDatasetVelo'>, 'NuScenesDatasetD7': <class 'second.data.nuscenes_dataset.NuScenesDatasetD7'>, 'NuScenesDatasetD6': <class 'second.data.nuscenes_dataset.NuScenesDatasetD6'>, 'NuScenesDatasetD5': <class 'second.data.nuscenes_dataset.NuScenesDatasetD5'>, 'NuScenesDatasetD4': <class 'second.data.nuscenes_dataset.NuScenesDatasetD4'>, 'NuScenesDatasetD3': <class 'second.data.nuscenes_dataset.NuScenesDatasetD3'>, 'NuScenesDatasetD2': <class 'second.data.nuscenes_dataset.NuScenesDatasetD2'>, 'NuScenesDatasetD2Velo': <class 'second.data.nuscenes_dataset.NuScenesDatasetD2Velo'>}\n",
      "]\n"
     ]
    }
   ],
   "source": [
    "%load_ext autoreload\n",
    "%autoreload 2\n",
    "%matplotlib inline\n",
    "\n",
    "import numpy as np"
   ]
  },
  {
   "cell_type": "markdown",
   "metadata": {},
   "source": [
    "## Lyft-Detector Training\n",
    "The Detector is trained using the train dataset. Model changes can be made in the config file.\n",
    "You need to change all paths according to your locations and the dataset structure described on the project page needs to be used.\n"
   ]
  },
  {
   "cell_type": "code",
   "execution_count": 40,
   "metadata": {
    "scrolled": false
   },
   "outputs": [
    {
     "name": "stdout",
     "output_type": "stream",
     "text": [
      "/home/itiv/anaconda3/envs/lyft_detector/lib/python3.6/site-packages/numba/cuda/envvars.py:17: NumbaWarning: \n",
      "Environment variables with the 'NUMBAPRO' prefix are deprecated and consequently ignored, found use of NUMBAPRO_NVVM=/usr/local/cuda/nvvm/lib64/libnvvm.so.\n",
      "\n",
      "For more information about alternatives visit: ('http://numba.pydata.org/numba-doc/latest/cuda/overview.html', '#cudatoolkit-lookup')\n",
      "  warnings.warn(errors.NumbaWarning(msg))\n",
      "/home/itiv/anaconda3/envs/lyft_detector/lib/python3.6/site-packages/numba/cuda/envvars.py:17: NumbaWarning: \n",
      "Environment variables with the 'NUMBAPRO' prefix are deprecated and consequently ignored, found use of NUMBAPRO_LIBDEVICE=/usr/local/cuda/nvvm/libdevice.\n",
      "\n",
      "For more information about alternatives visit: ('http://numba.pydata.org/numba-doc/latest/cuda/overview.html', '#cudatoolkit-lookup')\n",
      "  warnings.warn(errors.NumbaWarning(msg))\n",
      "/home/itiv/anaconda3/envs/lyft_detector/lib/python3.6/site-packages/numba/cuda/envvars.py:17: NumbaWarning: \n",
      "Environment variables with the 'NUMBAPRO' prefix are deprecated and consequently ignored, found use of NUMBAPRO_CUDA_DRIVER=/usr/lib/x86_64-linux-gnu/libcuda.so.\n",
      "\n",
      "For more information about alternatives visit: ('http://numba.pydata.org/numba-doc/latest/cuda/overview.html', '#cudatoolkit-lookup')\n",
      "  warnings.warn(errors.NumbaWarning(msg))\n",
      "======\n",
      "Loading NuScenes tables for version v1.0-trainval...\n",
      "9 category,\n",
      "18 attribute,\n",
      "4 visibility,\n",
      "18421 instance,\n",
      "10 sensor,\n",
      "148 calibrated_sensor,\n",
      "177789 ego_pose,\n",
      "180 log,\n",
      "180 scene,\n",
      "22680 sample,\n",
      "189504 sample_data,\n",
      "638179 sample_annotation,\n",
      "1 map,\n",
      "Done loading in 7.7 seconds.\n",
      "======\n",
      "Reverse indexing ...\n",
      "Done reverse indexing in 2.3 seconds.\n",
      "======\n",
      "total scene num: 180\n",
      "exist scene num: 180\n",
      "train scene: 147, val scene: 33\n",
      "[100.0%][===================>][64.84it/s][05:56>00:00]    \n",
      "train sample: 18522, val sample: 4158\n"
     ]
    }
   ],
   "source": [
    "## create database .pkl files\n",
    "LYFT_TRAINVAL_DATASET_ROOT = '/home/itiv/Desktop/lyft-kaggle-dataset/train'\n",
    "!python Lyft-Detector/second.pytorch/second/create_data.py nuscenes_data_prep --root_path=$LYFT_TRAINVAL_DATASET_ROOT  --version=\"v1.0-trainval\" --dataset_name=\"NuScenesDataset\" --max_sweeps=10\n"
   ]
  },
  {
   "cell_type": "code",
   "execution_count": 41,
   "metadata": {},
   "outputs": [
    {
     "name": "stderr",
     "output_type": "stream",
     "text": [
      "100%|██████████| 18522/18522 [00:01<00:00, 16781.76it/s]\n"
     ]
    },
    {
     "name": "stdout",
     "output_type": "stream",
     "text": [
      "Ground-Truth objects saved to: /home/itiv/Desktop/lyft-kaggle-dataset/train/v1.0-trainval/gt_data_val.json\n"
     ]
    }
   ],
   "source": [
    "## create Ground-Truth .json files \n",
    "\n",
    "\n",
    "import numpy as np\n",
    "import pandas as pd\n",
    "import plotly.graph_objects as go\n",
    "import matplotlib.pyplot as plt\n",
    "from mpl_toolkits.mplot3d import axes3d, Axes3D\n",
    "from tqdm import tqdm_notebook as tqdm\n",
    "import pickle\n",
    "from pathlib import Path\n",
    "from nuscenes.nuscenes import NuScenes\n",
    "from scipy.spatial.transform import Rotation as R \n",
    "from math import cos, sin, pi\n",
    "from lyft_dataset_sdk.lyftdataset import *\n",
    "from lyft_dataset_sdk.utils.data_classes import LidarPointCloud, Box, Quaternion\n",
    "from lyft_dataset_sdk.utils.geometry_utils import view_points, transform_matrix\n",
    "from lyft_dataset_sdk.eval.detection.mAP_evaluation import Box3D, recall_precision\n",
    "\n",
    "\n",
    "LYFT_DATASET_ROOT = LYFT_TRAINVAL_DATASET_ROOT\n",
    "\n",
    "\n",
    "phase = 'train'\n",
    "version = 'v1.0-trainval' if phase=='train' else 'v1.0-test'\n",
    "nusc = NuScenes(dataroot=f'{LYFT_DATASET_ROOT}/', version=version, verbose=0) \n",
    "lyft=nusc\n",
    "\n",
    "\n",
    "#info_path = f'{LYFT_DATASET_ROOT}/infos_val.pkl'\n",
    "info_path = f'{LYFT_DATASET_ROOT}/infos_train.pkl'\n",
    "# info_path = '../../../data/nuscenes/v1.0-trainval/infos_train.pkl'\n",
    "#info_path = '../../../data/nuscenes/v1.0-trainval/infos_val.pkl'\n",
    "with open(info_path, 'rb') as f:\n",
    "    info = pickle.load(f)['infos']\n",
    "    \n",
    "# only for nuscenes\n",
    "NameMapping = {\n",
    "    'movable_object.barrier': 'barrier',\n",
    "    'vehicle.bicycle': 'bicycle',\n",
    "    'vehicle.bus.bendy': 'bus',\n",
    "    'vehicle.bus.rigid': 'bus',\n",
    "    'vehicle.car': 'car',\n",
    "    'vehicle.construction': 'construction_vehicle',\n",
    "    'vehicle.motorcycle': 'motorcycle',\n",
    "    'human.pedestrian.adult': 'pedestrian',\n",
    "    'human.pedestrian.child': 'pedestrian',\n",
    "    'human.pedestrian.construction_worker': 'pedestrian',\n",
    "    'human.pedestrian.police_officer': 'pedestrian',\n",
    "    'movable_object.trafficcone': 'traffic_cone',\n",
    "    'vehicle.trailer': 'trailer',\n",
    "    'vehicle.truck': 'truck'\n",
    "}\n",
    "\n",
    "gt_data = [] \n",
    "for inf in tqdm(info):\n",
    "    sample_token = inf['token']\n",
    "    sample = lyft.get('sample', sample_token)\n",
    "    for ann_token in sample['anns']:\n",
    "        ann_record = lyft.get('sample_annotation', ann_token)\n",
    "        try:\n",
    "            data = {\n",
    "                'sample_token': sample_token,\n",
    "                'translation': ann_record['translation'],\n",
    "                'size': ann_record['size'],\n",
    "                'rotation': ann_record['rotation'],\n",
    "                'name': ann_record['category_name']\n",
    "                #'name': NameMapping[ann_record['category_name']]\n",
    "            }\n",
    "           # print(ann_record['category_name'])\n",
    "            gt_data.append(data)\n",
    "        except Exception as e:\n",
    "            pass # for nuscenes, not using some categories\n",
    "\n",
    "        \n",
    "gt_data_path = f'{LYFT_DATASET_ROOT}/{version}/gt_data_val.json'\n",
    "with open(gt_data_path, 'w') as f:\n",
    "    json.dump(gt_data, f, indent=2)\n",
    "    \n",
    "    \n",
    "print(f'Ground-Truth objects saved to: {gt_data_path}')"
   ]
  },
  {
   "cell_type": "code",
   "execution_count": 70,
   "metadata": {
    "scrolled": true
   },
   "outputs": [
    {
     "name": "stdout",
     "output_type": "stream",
     "text": [
      "/home/itiv/anaconda3/envs/lyft_detector/lib/python3.6/site-packages/numba/cuda/envvars.py:17: NumbaWarning: \n",
      "Environment variables with the 'NUMBAPRO' prefix are deprecated and consequently ignored, found use of NUMBAPRO_NVVM=/usr/local/cuda/nvvm/lib64/libnvvm.so.\n",
      "\n",
      "For more information about alternatives visit: ('http://numba.pydata.org/numba-doc/latest/cuda/overview.html', '#cudatoolkit-lookup')\n",
      "  warnings.warn(errors.NumbaWarning(msg))\n",
      "/home/itiv/anaconda3/envs/lyft_detector/lib/python3.6/site-packages/numba/cuda/envvars.py:17: NumbaWarning: \n",
      "Environment variables with the 'NUMBAPRO' prefix are deprecated and consequently ignored, found use of NUMBAPRO_LIBDEVICE=/usr/local/cuda/nvvm/libdevice.\n",
      "\n",
      "For more information about alternatives visit: ('http://numba.pydata.org/numba-doc/latest/cuda/overview.html', '#cudatoolkit-lookup')\n",
      "  warnings.warn(errors.NumbaWarning(msg))\n",
      "/home/itiv/anaconda3/envs/lyft_detector/lib/python3.6/site-packages/numba/cuda/envvars.py:17: NumbaWarning: \n",
      "Environment variables with the 'NUMBAPRO' prefix are deprecated and consequently ignored, found use of NUMBAPRO_CUDA_DRIVER=/usr/lib/x86_64-linux-gnu/libcuda.so.\n",
      "\n",
      "For more information about alternatives visit: ('http://numba.pydata.org/numba-doc/latest/cuda/overview.html', '#cudatoolkit-lookup')\n",
      "  warnings.warn(errors.NumbaWarning(msg))\n",
      "Traceback (most recent call last):\n",
      "  File \"./Lyft-Detector/second.pytorch/second/pytorch/train.py\", line 14, in <module>\n",
      "    import second.data.kitti_common as kitti\n",
      "  File \"/home/itiv/Desktop/repo/scenarios_in_CarMaker/BA_Daniel/Lyft-Detector/second.pytorch/second/data/__init__.py\", line 1, in <module>\n",
      "    from . import kitti_dataset\n",
      "  File \"/home/itiv/Desktop/repo/scenarios_in_CarMaker/BA_Daniel/Lyft-Detector/second.pytorch/second/data/kitti_dataset.py\", line 11, in <module>\n",
      "    from second.utils.eval import get_coco_eval_result, get_official_eval_result\n",
      "  File \"/home/itiv/Desktop/repo/scenarios_in_CarMaker/BA_Daniel/Lyft-Detector/second.pytorch/second/utils/eval.py\", line 8, in <module>\n",
      "    from second.core.non_max_suppression.nms_gpu import rotate_iou_gpu_eval\n",
      "  File \"/home/itiv/Desktop/repo/scenarios_in_CarMaker/BA_Daniel/Lyft-Detector/second.pytorch/second/core/non_max_suppression/__init__.py\", line 1, in <module>\n",
      "    from second.core.non_max_suppression.nms_cpu import nms_jit, soft_nms_jit\n",
      "  File \"/home/itiv/Desktop/repo/scenarios_in_CarMaker/BA_Daniel/Lyft-Detector/second.pytorch/second/core/non_max_suppression/nms_cpu.py\", line 8, in <module>\n",
      "    from second.core.non_max_suppression.nms_gpu import rotate_iou_gpu\n",
      "  File \"/home/itiv/Desktop/repo/scenarios_in_CarMaker/BA_Daniel/Lyft-Detector/second.pytorch/second/core/non_max_suppression/nms_gpu.py\", line 478, in <module>\n",
      "    @cuda.jit('(int64, int64, float32[:], float32[:], float32[:])', fastmath=False)\n",
      "  File \"/home/itiv/anaconda3/envs/lyft_detector/lib/python3.6/site-packages/numba/cuda/decorators.py\", line 101, in kernel_jit\n",
      "    kernel.bind()\n",
      "  File \"/home/itiv/anaconda3/envs/lyft_detector/lib/python3.6/site-packages/numba/cuda/compiler.py\", line 542, in bind\n",
      "    self._func.get()\n",
      "  File \"/home/itiv/anaconda3/envs/lyft_detector/lib/python3.6/site-packages/numba/cuda/compiler.py\", line 416, in get\n",
      "    cuctx = get_context()\n",
      "  File \"/home/itiv/anaconda3/envs/lyft_detector/lib/python3.6/site-packages/numba/cuda/cudadrv/devices.py\", line 213, in get_context\n",
      "    return _runtime.get_or_create_context(devnum)\n",
      "  File \"/home/itiv/anaconda3/envs/lyft_detector/lib/python3.6/site-packages/numba/cuda/cudadrv/devices.py\", line 139, in get_or_create_context\n",
      "    return self._get_or_create_context_uncached(devnum)\n",
      "  File \"/home/itiv/anaconda3/envs/lyft_detector/lib/python3.6/site-packages/numba/cuda/cudadrv/devices.py\", line 154, in _get_or_create_context_uncached\n",
      "    return self._activate_context_for(0)\n",
      "  File \"/home/itiv/anaconda3/envs/lyft_detector/lib/python3.6/site-packages/numba/cuda/cudadrv/devices.py\", line 170, in _activate_context_for\n",
      "    newctx = gpu.get_primary_context()\n",
      "  File \"/home/itiv/anaconda3/envs/lyft_detector/lib/python3.6/site-packages/numba/cuda/cudadrv/driver.py\", line 528, in get_primary_context\n",
      "    driver.cuDevicePrimaryCtxRetain(byref(hctx), self.id)\n",
      "  File \"/home/itiv/anaconda3/envs/lyft_detector/lib/python3.6/site-packages/numba/cuda/cudadrv/driver.py\", line 294, in safe_cuda_api_call\n",
      "    self._check_error(fname, retcode)\n",
      "  File \"/home/itiv/anaconda3/envs/lyft_detector/lib/python3.6/site-packages/numba/cuda/cudadrv/driver.py\", line 329, in _check_error\n",
      "    raise CudaAPIError(retcode, msg)\n",
      "numba.cuda.cudadrv.driver.CudaAPIError: [999] Call to cuDevicePrimaryCtxRetain results in CUDA_ERROR_UNKNOWN\n"
     ]
    }
   ],
   "source": [
    "##start training\n",
    "##takes very long better run this in terminal...\n",
    "\n",
    "config_path = 'Lyft-Detector/second.pytorch/second/configs/nuscenes/all.pp.lowa_large_range_v3.config'\n",
    "model_path = 'Lyft-Detector/second.pytorch/second/model/model_large_range_v3'\n",
    "\n",
    "!python ./Lyft-Detector/second.pytorch/second/pytorch/train.py train --config_path=$config_path --model_dir=$model_path"
   ]
  },
  {
   "cell_type": "markdown",
   "metadata": {},
   "source": [
    "## Generate Detections for Scene"
   ]
  },
  {
   "cell_type": "code",
   "execution_count": 18,
   "metadata": {},
   "outputs": [
    {
     "name": "stdout",
     "output_type": "stream",
     "text": [
      "9 category,\n",
      "18 attribute,\n",
      "4 visibility,\n",
      "18421 instance,\n",
      "10 sensor,\n",
      "148 calibrated_sensor,\n",
      "177789 ego_pose,\n",
      "180 log,\n",
      "180 scene,\n",
      "22680 sample,\n",
      "189504 sample_data,\n",
      "638179 sample_annotation,\n",
      "1 map,\n",
      "Done loading in 6.8 seconds.\n",
      "======\n",
      "Reverse indexing ...\n",
      "Done reverse indexing in 2.2 seconds.\n",
      "======\n"
     ]
    }
   ],
   "source": [
    "##Choose a scene..first load dataset\n",
    "from lyft_dataset_sdk.lyftdataset import LyftDataset\n",
    "\n",
    "data_path = LYFT_TRAINVAL_DATASET_ROOT\n",
    "json_path = data_path+'/v1.0-trainval'\n",
    "# Load the dataset\n",
    "# Adjust the dataroot parameter below to point to your local dataset path.\n",
    "# The correct dataset path contains at least the following four folders (or similar): images, lidar, maps, v1.0.1-train\n",
    "level5data = LyftDataset(data_path=data_path, json_path=json_path, verbose=True)"
   ]
  },
  {
   "cell_type": "code",
   "execution_count": 20,
   "metadata": {},
   "outputs": [
    {
     "name": "stdout",
     "output_type": "stream",
     "text": [
      "{'description': '', 'first_sample_token': '779fb76f1b70ff92cf586bf2ed5f8ac0e9cf5c28fde2c33760cd3219840e529d', 'name': 'host-a011-lidar0-1236119823299280856-1236119848199397346', 'log_token': 'af749b4da1ab470bd4af7bab1a1e9ea358349839844de30291ec3c1c15f94f48', 'last_sample_token': 'a3ad6fd0f3063171545e575a93f0c2e2cabd1bf9bf16e00edbcbbc27540f62c9', 'nbr_samples': 126, 'token': 'af749b4da1ab470bd4af7bab1a1e9ea358349839844de30291ec3c1c15f94f48'}\n"
     ]
    }
   ],
   "source": [
    "##Choose a scene..\n",
    "#level5data.list_scenes()\n",
    "\n",
    "\n",
    "scene = level5data.scene[10]\n",
    "print(scene)"
   ]
  },
  {
   "cell_type": "code",
   "execution_count": 54,
   "metadata": {
    "scrolled": false
   },
   "outputs": [
    {
     "name": "stderr",
     "output_type": "stream",
     "text": [
      "[autoreload of second.data.nuscenes_dataset failed: Traceback (most recent call last):\n",
      "  File \"/home/itiv/anaconda3/envs/lyft_detector/lib/python3.6/site-packages/IPython/extensions/autoreload.py\", line 245, in check\n",
      "    superreload(m, reload, self.old_objects)\n",
      "  File \"/home/itiv/anaconda3/envs/lyft_detector/lib/python3.6/site-packages/IPython/extensions/autoreload.py\", line 394, in superreload\n",
      "    module = reload(module)\n",
      "  File \"/home/itiv/anaconda3/envs/lyft_detector/lib/python3.6/imp.py\", line 315, in reload\n",
      "    return importlib.reload(module)\n",
      "  File \"/home/itiv/anaconda3/envs/lyft_detector/lib/python3.6/importlib/__init__.py\", line 166, in reload\n",
      "    _bootstrap._exec(spec, module)\n",
      "  File \"<frozen importlib._bootstrap>\", line 618, in _exec\n",
      "  File \"<frozen importlib._bootstrap_external>\", line 678, in exec_module\n",
      "  File \"<frozen importlib._bootstrap>\", line 219, in _call_with_frames_removed\n",
      "  File \"/home/itiv/Desktop/repo/scenarios_in_CarMaker/BA_Daniel/Lyft-Detector/second.pytorch/second/data/nuscenes_dataset.py\", line 23, in <module>\n",
      "    class NuScenesDataset(Dataset):\n",
      "  File \"/home/itiv/Desktop/repo/scenarios_in_CarMaker/BA_Daniel/Lyft-Detector/second.pytorch/second/data/dataset.py\", line 18, in register_dataset\n",
      "    assert name not in REGISTERED_DATASET_CLASSES, f\"exist class: {REGISTERED_DATASET_CLASSES}\"\n",
      "AssertionError: exist class: {'KittiDataset': <class 'second.data.kitti_dataset.KittiDataset'>, 'NuScenesDataset': <class 'second.data.nuscenes_dataset.NuScenesDataset'>, 'NuScenesDatasetD8': <class 'second.data.nuscenes_dataset.NuScenesDatasetD8'>, 'NuScenesDatasetD8Velo': <class 'second.data.nuscenes_dataset.NuScenesDatasetD8Velo'>, 'NuScenesDatasetVelo': <class 'second.data.nuscenes_dataset.NuScenesDatasetVelo'>, 'NuScenesDatasetD7': <class 'second.data.nuscenes_dataset.NuScenesDatasetD7'>, 'NuScenesDatasetD6': <class 'second.data.nuscenes_dataset.NuScenesDatasetD6'>, 'NuScenesDatasetD5': <class 'second.data.nuscenes_dataset.NuScenesDatasetD5'>, 'NuScenesDatasetD4': <class 'second.data.nuscenes_dataset.NuScenesDatasetD4'>, 'NuScenesDatasetD3': <class 'second.data.nuscenes_dataset.NuScenesDatasetD3'>, 'NuScenesDatasetD2': <class 'second.data.nuscenes_dataset.NuScenesDatasetD2'>, 'NuScenesDatasetD2Velo': <class 'second.data.nuscenes_dataset.NuScenesDatasetD2Velo'>}\n",
      "]\n"
     ]
    },
    {
     "name": "stdout",
     "output_type": "stream",
     "text": [
      "/home/itiv/anaconda3/envs/lyft_detector/lib/python3.6/site-packages/numba/cuda/envvars.py:17: NumbaWarning: \n",
      "Environment variables with the 'NUMBAPRO' prefix are deprecated and consequently ignored, found use of NUMBAPRO_NVVM=/usr/local/cuda/nvvm/lib64/libnvvm.so.\n",
      "\n",
      "For more information about alternatives visit: ('http://numba.pydata.org/numba-doc/latest/cuda/overview.html', '#cudatoolkit-lookup')\n",
      "  warnings.warn(errors.NumbaWarning(msg))\n",
      "/home/itiv/anaconda3/envs/lyft_detector/lib/python3.6/site-packages/numba/cuda/envvars.py:17: NumbaWarning: \n",
      "Environment variables with the 'NUMBAPRO' prefix are deprecated and consequently ignored, found use of NUMBAPRO_LIBDEVICE=/usr/local/cuda/nvvm/libdevice.\n",
      "\n",
      "For more information about alternatives visit: ('http://numba.pydata.org/numba-doc/latest/cuda/overview.html', '#cudatoolkit-lookup')\n",
      "  warnings.warn(errors.NumbaWarning(msg))\n",
      "/home/itiv/anaconda3/envs/lyft_detector/lib/python3.6/site-packages/numba/cuda/envvars.py:17: NumbaWarning: \n",
      "Environment variables with the 'NUMBAPRO' prefix are deprecated and consequently ignored, found use of NUMBAPRO_CUDA_DRIVER=/usr/lib/x86_64-linux-gnu/libcuda.so.\n",
      "\n",
      "For more information about alternatives visit: ('http://numba.pydata.org/numba-doc/latest/cuda/overview.html', '#cudatoolkit-lookup')\n",
      "  warnings.warn(errors.NumbaWarning(msg))\n",
      "======\n",
      "Loading NuScenes tables for version v1.0-trainval...\n",
      "9 category,\n",
      "18 attribute,\n",
      "4 visibility,\n",
      "18421 instance,\n",
      "10 sensor,\n",
      "148 calibrated_sensor,\n",
      "177789 ego_pose,\n",
      "180 log,\n",
      "180 scene,\n",
      "22680 sample,\n",
      "189504 sample_data,\n",
      "638179 sample_annotation,\n",
      "1 map,\n",
      "Done loading in 6.7 seconds.\n",
      "======\n",
      "Reverse indexing ...\n",
      "Done reverse indexing in 2.2 seconds.\n",
      "======\n",
      "total scene num: 180\n",
      "exist scene num: 180\n",
      "test scene: 1\n",
      "[100.0%][===================>][65.33it/s][06:01>00:00]    \n",
      "custom scene sample: 126\n",
      "saved to: infos_af749b4da1ab470bd4af7bab1a1e9ea358349839844de30291ec3c1c15f94f48.pkl\n"
     ]
    }
   ],
   "source": [
    "## create database .pkl files\n",
    "scene_token = scene['token']\n",
    "\n",
    "#TODO - create dummy ann files\n",
    "#LYFT_TRAINVAL_DATASET_ROOT = '/home/itiv/Desktop/lyft-kaggle-dataset/test'\n",
    "#!python Lyft-Detector/second.pytorch/second/create_data.py nuscenes_data_prep --root_path=$LYFT_TRAINVAL_DATASET_ROOT  --version=\"v1.0-test\" --dataset_name=\"NuScenesDataset\" --scene_token=$scene_token --max_sweeps=10\n",
    "version = \"v1.0-trainval\"\n",
    "\n",
    "LYFT_TRAINVAL_DATASET_ROOT = '/home/itiv/Desktop/lyft-kaggle-dataset/train'\n",
    "!python Lyft-Detector/second.pytorch/second/create_data.py nuscenes_data_prep --root_path=$LYFT_TRAINVAL_DATASET_ROOT  --version=$version --dataset_name=\"NuScenesDataset\" --scene_token=$scene_token --max_sweeps=10\n",
    "\n",
    "\n"
   ]
  },
  {
   "cell_type": "code",
   "execution_count": 60,
   "metadata": {
    "scrolled": false
   },
   "outputs": [
    {
     "name": "stdout",
     "output_type": "stream",
     "text": [
      "Detecting...this might take several minutes...\n",
      "/home/itiv/anaconda3/envs/lyft_detector/lib/python3.6/site-packages/numba/cuda/envvars.py:17: NumbaWarning: \n",
      "Environment variables with the 'NUMBAPRO' prefix are deprecated and consequently ignored, found use of NUMBAPRO_NVVM=/usr/local/cuda/nvvm/lib64/libnvvm.so.\n",
      "\n",
      "For more information about alternatives visit: ('http://numba.pydata.org/numba-doc/latest/cuda/overview.html', '#cudatoolkit-lookup')\n",
      "  warnings.warn(errors.NumbaWarning(msg))\n",
      "/home/itiv/anaconda3/envs/lyft_detector/lib/python3.6/site-packages/numba/cuda/envvars.py:17: NumbaWarning: \n",
      "Environment variables with the 'NUMBAPRO' prefix are deprecated and consequently ignored, found use of NUMBAPRO_LIBDEVICE=/usr/local/cuda/nvvm/libdevice.\n",
      "\n",
      "For more information about alternatives visit: ('http://numba.pydata.org/numba-doc/latest/cuda/overview.html', '#cudatoolkit-lookup')\n",
      "  warnings.warn(errors.NumbaWarning(msg))\n",
      "/home/itiv/anaconda3/envs/lyft_detector/lib/python3.6/site-packages/numba/cuda/envvars.py:17: NumbaWarning: \n",
      "Environment variables with the 'NUMBAPRO' prefix are deprecated and consequently ignored, found use of NUMBAPRO_CUDA_DRIVER=/usr/lib/x86_64-linux-gnu/libcuda.so.\n",
      "\n",
      "For more information about alternatives visit: ('http://numba.pydata.org/numba-doc/latest/cuda/overview.html', '#cudatoolkit-lookup')\n",
      "  warnings.warn(errors.NumbaWarning(msg))\n",
      "Finished!!!\n"
     ]
    }
   ],
   "source": [
    "##Perform detection\n",
    "\n",
    "\n",
    "config_path = \"./Lyft-Detector/second.pytorch/second/configs/nuscenes/all.pp.lowa_large_range_v2.config\"\n",
    "ckpt_path = './Lyft-Detector/second.pytorch/second/model/model_large_range_v2/voxelnet-33445.tckpt'\n",
    "info_path = LYFT_TRAINVAL_DATASET_ROOT+'/infos_'+scene_token+'.pkl'\n",
    "root_path = LYFT_TRAINVAL_DATASET_ROOT\n",
    "result_path = LYFT_TRAINVAL_DATASET_ROOT\n",
    "print('Detecting...this might take several minutes...')\n",
    "!python ./Lyft-Detector/second.pytorch/second/detect.py detect --scene_token=$scene_token --config_path=$config_path --ckpt_path=$ckpt_path --info_path=$info_path --root_path=$root_path --result_path=$result_path\n",
    "\n",
    "\n",
    "print('Finished!!!')"
   ]
  },
  {
   "cell_type": "code",
   "execution_count": 69,
   "metadata": {
    "scrolled": false
   },
   "outputs": [
    {
     "name": "stdout",
     "output_type": "stream",
     "text": [
      "track nuscenes\n",
      "======\n",
      "Loading NuScenes tables for version v1.0-trainval...\n",
      "9 category,\n",
      "18 attribute,\n",
      "4 visibility,\n",
      "18421 instance,\n",
      "10 sensor,\n",
      "148 calibrated_sensor,\n",
      "177789 ego_pose,\n",
      "180 log,\n",
      "180 scene,\n",
      "22680 sample,\n",
      "189504 sample_data,\n",
      "638179 sample_annotation,\n",
      "1 map,\n",
      "Done loading in 6.6 seconds.\n",
      "======\n",
      "Reverse indexing ...\n",
      "Done reverse indexing in 2.2 seconds.\n",
      "======\n",
      "Loaded results from /home/itiv/Desktop/lyft-kaggle-dataset/train/tracks_af749b4da1ab470bd4af7bab1a1e9ea358349839844de30291ec3c1c15f94f48.json. Found detections for 126 samples.\n",
      "  0%|                                                   | 0/126 [00:00<?, ?it/s]./Lyft-Tracker/mahalanobis_3d_multi_object_tracking/main.py:116: NumbaWarning: \n",
      "Compilation is falling back to object mode WITH looplifting enabled because Function roty failed at nopython mode lowering due to: \n",
      "\n",
      "File \"Lyft-Tracker/mahalanobis_3d_multi_object_tracking/main.py\", line 123:\n",
      "def roty(t):\n",
      "    <source elided>\n",
      "                     [0,  1,  0],\n",
      "                     [-s, 0,  c]])\n",
      "                     ^\n",
      "\n",
      "[1] During: lowering \"$0.24 = build_list(items=[Var($0.14, main.py:121), Var($0.18, main.py:122), Var($0.23, main.py:123)])\" at ./Lyft-Tracker/mahalanobis_3d_multi_object_tracking/main.py (123)\n",
      "  @jit\n",
      "/home/itiv/anaconda3/envs/lyft_detector/lib/python3.6/site-packages/numba/object_mode_passes.py:178: NumbaWarning: Function \"roty\" was compiled in object mode without forceobj=True.\n",
      "\n",
      "File \"Lyft-Tracker/mahalanobis_3d_multi_object_tracking/main.py\", line 117:\n",
      "@jit       \n",
      "def roty(t):\n",
      "^\n",
      "\n",
      "  state.func_ir.loc))\n",
      "/home/itiv/anaconda3/envs/lyft_detector/lib/python3.6/site-packages/numba/object_mode_passes.py:188: NumbaDeprecationWarning: \n",
      "Fall-back from the nopython compilation path to the object mode compilation path has been detected, this is deprecated behaviour.\n",
      "\n",
      "For more information visit http://numba.pydata.org/numba-doc/latest/reference/deprecation.html#deprecation-of-object-mode-fall-back-behaviour-when-using-jit\n",
      "\n",
      "File \"Lyft-Tracker/mahalanobis_3d_multi_object_tracking/main.py\", line 117:\n",
      "@jit       \n",
      "def roty(t):\n",
      "^\n",
      "\n",
      "  state.func_ir.loc))\n",
      "100%|████████████████████████████████████████| 126/126 [00:00<00:00, 260.33it/s]\n",
      "Total Tracking took: 0.460 for 126 frames or 274.1 FPS\n"
     ]
    }
   ],
   "source": [
    "#Perform Tracking\n",
    "\n",
    "root_path = LYFT_TRAINVAL_DATASET_ROOT\n",
    "result_path = LYFT_TRAINVAL_DATASET_ROOT\n",
    "version = \"v1.0-trainval\"\n",
    "detection_file = result_path+'/tracks_'+scene_token+'.json'\n",
    "!python ./Lyft-Tracker/mahalanobis_3d_multi_object_tracking/main.py detect --save_root=$root_path --version=$version --detection_file=$detection_file --data_root=$root_path"
   ]
  },
  {
   "cell_type": "code",
   "execution_count": null,
   "metadata": {},
   "outputs": [],
   "source": [
    "##TODO to carmaker files..."
   ]
  }
 ],
 "metadata": {
  "kernelspec": {
   "display_name": "Python [conda env:lyft_detector]",
   "language": "python",
   "name": "conda-env-lyft_detector-py"
  },
  "language_info": {
   "codemirror_mode": {
    "name": "ipython",
    "version": 3
   },
   "file_extension": ".py",
   "mimetype": "text/x-python",
   "name": "python",
   "nbconvert_exporter": "python",
   "pygments_lexer": "ipython3",
   "version": "3.6.10"
  }
 },
 "nbformat": 4,
 "nbformat_minor": 2
}
