{
 "cells": [
  {
   "cell_type": "code",
   "execution_count": null,
   "metadata": {},
   "outputs": [],
   "source": [
    "#### This Notebook should convert all Position-Data to a common Format\n",
    "#ego-movement.txt\n",
    "#Line consists of:\n",
    "#\n",
    "#FrameID Translation(x y z) Orientation(yaw pitch roll) ForwardVelocity(vf)\n",
    "#\n",
    "#\n",
    "#\n",
    "#\n",
    "#\n",
    "#\n",
    "import Numpy as np"
   ]
  },
  {
   "cell_type": "code",
   "execution_count": null,
   "metadata": {},
   "outputs": [],
   "source": [
    "##Converta Lyft-Ego-Locations to common Format\n",
    "\n",
    "# Load the SDK\n",
    "%matplotlib inline\n",
    "from lyft_dataset_sdk.lyftdataset import LyftDataset\n",
    "\n",
    "# Load the dataset\n",
    "# Adjust the dataroot parameter below to point to your local dataset path.\n",
    "# The correct dataset path contains at least the following four folders (or similar): images, lidar, maps, v1.0.1-train\n",
    "level5data = LyftDataset(data_path='/home/itiv/Desktop/lyft-dataset', json_path='/home/itiv/Desktop/lyft-dataset/v1.02-train', verbose=True)\n",
    "\n"
   ]
  },
  {
   "cell_type": "code",
   "execution_count": null,
   "metadata": {},
   "outputs": [],
   "source": [
    "#show scene\n",
    "\n",
    "scene_index = 2\n",
    "\n",
    "my_scene = level5data.scene[scene_index]\n",
    "my_sample_token = my_scene[\"first_sample_token\"]\n",
    "level5data.render_sample(my_sample_token)\n",
    "print(my_scene)"
   ]
  },
  {
   "cell_type": "code",
   "execution_count": null,
   "metadata": {},
   "outputs": [],
   "source": [
    "#get egopose...to be continued\n",
    "sample = level5data.get('sample', sample_token)\n",
    "sample_data = level5data.get('sample_data', sample['data']['LIDAR_TOP'])\n",
    "ego_pose = level5data.get('ego_pose', sample_data['ego_pose_token'])"
   ]
  }
 ],
 "metadata": {
  "kernelspec": {
   "display_name": "Python 3",
   "language": "python",
   "name": "python3"
  },
  "language_info": {
   "codemirror_mode": {
    "name": "ipython",
    "version": 3
   },
   "file_extension": ".py",
   "mimetype": "text/x-python",
   "name": "python",
   "nbconvert_exporter": "python",
   "pygments_lexer": "ipython3",
   "version": "3.8.1"
  }
 },
 "nbformat": 4,
 "nbformat_minor": 2
}
